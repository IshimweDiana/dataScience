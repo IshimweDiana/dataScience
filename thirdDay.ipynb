{
 "cells": [
  {
   "cell_type": "code",
   "execution_count": 4,
   "id": "f759702e-208e-4843-aaba-4bd138c2c76d",
   "metadata": {},
   "outputs": [
    {
     "name": "stdout",
     "output_type": "stream",
     "text": [
      "Collecting folium\n",
      "  Downloading folium-0.19.4-py2.py3-none-any.whl.metadata (3.8 kB)\n",
      "Collecting branca>=0.6.0 (from folium)\n",
      "  Downloading branca-0.8.1-py3-none-any.whl.metadata (1.5 kB)\n",
      "Requirement already satisfied: jinja2>=2.9 in /opt/homebrew/Cellar/jupyterlab/4.3.4_1/libexec/lib/python3.13/site-packages (from folium) (3.1.5)\n",
      "Requirement already satisfied: numpy in /opt/homebrew/Cellar/jupyterlab/4.3.4_1/libexec/lib/python3.13/site-packages (from folium) (2.2.1)\n",
      "Requirement already satisfied: requests in /opt/homebrew/Cellar/jupyterlab/4.3.4_1/libexec/lib/python3.13/site-packages (from folium) (2.32.3)\n",
      "Collecting xyzservices (from folium)\n",
      "  Downloading xyzservices-2024.9.0-py3-none-any.whl.metadata (4.1 kB)\n",
      "Requirement already satisfied: MarkupSafe>=2.0 in /opt/homebrew/Cellar/jupyterlab/4.3.4_1/libexec/lib/python3.13/site-packages (from jinja2>=2.9->folium) (3.0.2)\n",
      "Requirement already satisfied: charset_normalizer<4,>=2 in /opt/homebrew/Cellar/jupyterlab/4.3.4_1/libexec/lib/python3.13/site-packages (from requests->folium) (3.4.0)\n",
      "Requirement already satisfied: idna<4,>=2.5 in /opt/homebrew/Cellar/jupyterlab/4.3.4_1/libexec/lib/python3.13/site-packages (from requests->folium) (3.10)\n",
      "Requirement already satisfied: urllib3<3,>=1.21.1 in /opt/homebrew/Cellar/jupyterlab/4.3.4_1/libexec/lib/python3.13/site-packages (from requests->folium) (2.3.0)\n",
      "Requirement already satisfied: certifi>=2017.4.17 in /opt/homebrew/opt/certifi/lib/python3.13/site-packages (from requests->folium) (2024.12.14)\n",
      "Downloading folium-0.19.4-py2.py3-none-any.whl (110 kB)\n",
      "Downloading branca-0.8.1-py3-none-any.whl (26 kB)\n",
      "Downloading xyzservices-2024.9.0-py3-none-any.whl (85 kB)\n",
      "Installing collected packages: xyzservices, branca, folium\n",
      "Successfully installed branca-0.8.1 folium-0.19.4 xyzservices-2024.9.0\n",
      "Note: you may need to restart the kernel to use updated packages.\n"
     ]
    }
   ],
   "source": [
    "pip install folium\n"
   ]
  },
  {
   "cell_type": "code",
   "execution_count": 5,
   "id": "9c8ddcb9-b144-4f4f-8db1-879ea76389e2",
   "metadata": {},
   "outputs": [
    {
     "name": "stdout",
     "output_type": "stream",
     "text": [
      "Collecting scipy\n",
      "  Downloading scipy-1.15.1-cp313-cp313-macosx_14_0_arm64.whl.metadata (61 kB)\n",
      "Requirement already satisfied: numpy<2.5,>=1.23.5 in /opt/homebrew/Cellar/jupyterlab/4.3.4_1/libexec/lib/python3.13/site-packages (from scipy) (2.2.1)\n",
      "Downloading scipy-1.15.1-cp313-cp313-macosx_14_0_arm64.whl (24.8 MB)\n",
      "\u001b[2K   \u001b[90m━━━━━━━━━━━━━━━━━━━━━━━━━━━━━━━━━━━━━━━━\u001b[0m \u001b[32m24.8/24.8 MB\u001b[0m \u001b[31m408.5 kB/s\u001b[0m eta \u001b[36m0:00:00\u001b[0m00:01\u001b[0m00:02\u001b[0m\n",
      "Installing collected packages: scipy\n",
      "Successfully installed scipy-1.15.1\n",
      "Note: you may need to restart the kernel to use updated packages.\n"
     ]
    }
   ],
   "source": [
    "pip install scipy"
   ]
  },
  {
   "cell_type": "markdown",
   "id": "37c913aa-afd4-45c1-b23e-6df643809060",
   "metadata": {},
   "source": [
    "DATA MANAGEMENT AND VISUALIZATION "
   ]
  },
  {
   "cell_type": "code",
   "execution_count": 3,
   "id": "465ca840-8bfc-493e-9ff7-93250e3c0668",
   "metadata": {},
   "outputs": [],
   "source": [
    "import matplotlib.pyplot as plt\n",
    "import seaborn as sns\n",
    "import pandas as pd\n",
    "import folium\n",
    "#from folium.plugins import HeatMan, MarkerCluster\n",
    "from scipy import stats\n",
    "#set plot style for better visualization\n",
    "#plt.style.use('seaborn')\n",
    "df = pd.read_csv('malaria_dataset2.csv')\n"
   ]
  },
  {
   "cell_type": "code",
   "execution_count": 4,
   "id": "78f7094b-d3fe-43f3-94dc-19e06c71021f",
   "metadata": {},
   "outputs": [
    {
     "name": "stdout",
     "output_type": "stream",
     "text": [
      "======== Basic information about dataset=======\n",
      "<class 'pandas.core.frame.DataFrame'>\n",
      "RangeIndex: 3000 entries, 0 to 2999\n",
      "Data columns (total 9 columns):\n",
      " #   Column             Non-Null Count  Dtype  \n",
      "---  ------             --------------  -----  \n",
      " 0   Patient_ID         3000 non-null   int64  \n",
      " 1   Date               3000 non-null   object \n",
      " 2   Age                3000 non-null   int64  \n",
      " 3   Gender             3000 non-null   object \n",
      " 4   Temperature_F      2939 non-null   float64\n",
      " 5   Parasitemia_count  3000 non-null   int64  \n",
      " 6   Days_hospitalized  3000 non-null   int64  \n",
      " 7   Latitude           3000 non-null   float64\n",
      " 8   Longitude          3000 non-null   float64\n",
      "dtypes: float64(3), int64(4), object(2)\n",
      "memory usage: 211.1+ KB\n"
     ]
    }
   ],
   "source": [
    "print(\"======== Basic information about dataset=======\")\n",
    "df.head()\n",
    "df.info()"
   ]
  },
  {
   "cell_type": "markdown",
   "id": "89333caa-b2e1-409f-b2ff-fb947e9653ae",
   "metadata": {},
   "source": [
    "STEP2 CHECK FOR MISSING VALUES"
   ]
  },
  {
   "cell_type": "code",
   "execution_count": 6,
   "id": "6d6568a6-3a1e-47f0-99f6-b9645d7a35e3",
   "metadata": {},
   "outputs": [
    {
     "data": {
      "text/plain": [
       "Patient_ID            0\n",
       "Date                  0\n",
       "Age                   0\n",
       "Gender                0\n",
       "Temperature_F        61\n",
       "Parasitemia_count     0\n",
       "Days_hospitalized     0\n",
       "Latitude              0\n",
       "Longitude             0\n",
       "dtype: int64"
      ]
     },
     "execution_count": 6,
     "metadata": {},
     "output_type": "execute_result"
    }
   ],
   "source": [
    "missing_values= df.isnull().sum()\n",
    "missing_values"
   ]
  },
  {
   "cell_type": "code",
   "execution_count": 13,
   "id": "d78fef34-e5e2-42f1-bce0-9df462e7a769",
   "metadata": {},
   "outputs": [
    {
     "data": {
      "text/plain": [
       "Patient_ID           0\n",
       "Date                 0\n",
       "Age                  0\n",
       "Gender               0\n",
       "Temperature_F        0\n",
       "Parasitemia_count    0\n",
       "Days_hospitalized    0\n",
       "Latitude             0\n",
       "Longitude            0\n",
       "dtype: int64"
      ]
     },
     "execution_count": 13,
     "metadata": {},
     "output_type": "execute_result"
    }
   ],
   "source": [
    "#dropping method for missing values\n",
    "numerical_columns=df.select_dtypes(include=['float64','int64']).columns\n",
    "df[numerical_columns]=df[numerical_columns].fillna(df[numerical_columns].mean())\n",
    "\n",
    "df.isnull().sum()\n",
    "#df.info()"
   ]
  },
  {
   "cell_type": "code",
   "execution_count": null,
   "id": "04776365-86b2-4e02-9070-5c9bc42d7828",
   "metadata": {},
   "outputs": [],
   "source": [
    "#df.dropna()"
   ]
  },
  {
   "cell_type": "markdown",
   "id": "58f5015d-8249-4c70-abbb-99f9722c0d23",
   "metadata": {},
   "source": [
    "#Step 3 basic data preprocessing"
   ]
  },
  {
   "cell_type": "code",
   "execution_count": 14,
   "id": "ee32e133-f335-4b57-a11d-6a0e8cb248e0",
   "metadata": {},
   "outputs": [],
   "source": [
    "df['Date']=pd.to_datetime(df['Date'])\n",
    "df['Month']=df['Date'].dt.month\n",
    "df['Year']=df['Date'].dt.year"
   ]
  },
  {
   "cell_type": "code",
   "execution_count": null,
   "id": "11279af1-f550-46d1-b899-fdd58a3a38fe",
   "metadata": {},
   "outputs": [],
   "source": [
    "#create age groups for easier analysis\n",
    "df['Age_Group']=pd.cut(df['Age'],\n",
    "                      bins=)"
   ]
  }
 ],
 "metadata": {
  "kernelspec": {
   "display_name": "Python 3 (ipykernel)",
   "language": "python",
   "name": "python3"
  },
  "language_info": {
   "codemirror_mode": {
    "name": "ipython",
    "version": 3
   },
   "file_extension": ".py",
   "mimetype": "text/x-python",
   "name": "python",
   "nbconvert_exporter": "python",
   "pygments_lexer": "ipython3",
   "version": "3.13.1"
  }
 },
 "nbformat": 4,
 "nbformat_minor": 5
}
